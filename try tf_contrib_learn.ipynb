{
 "cells": [
  {
   "cell_type": "markdown",
   "metadata": {},
   "source": [
    "# Linear regression with `tf.contrib.learn`"
   ]
  },
  {
   "cell_type": "code",
   "execution_count": 1,
   "metadata": {
    "collapsed": true
   },
   "outputs": [],
   "source": [
    "import tensorflow as tf\n",
    "import numpy as np"
   ]
  },
  {
   "cell_type": "code",
   "execution_count": 2,
   "metadata": {
    "collapsed": true
   },
   "outputs": [],
   "source": [
    "# Declare list of features\n",
    "# Here is only one real-valued features.\n",
    "\n",
    "features = [ tf.contrib.layers.real_valued_column( \"x\", dimension=1 ) ]"
   ]
  },
  {
   "cell_type": "code",
   "execution_count": 3,
   "metadata": {
    "collapsed": false
   },
   "outputs": [
    {
     "name": "stdout",
     "output_type": "stream",
     "text": [
      "WARNING:tensorflow:Using temporary folder as model directory: /var/folders/dr/5wb0rqf16jgfd_0fjs5qkst40000gn/T/tmpmavuci0r\n",
      "INFO:tensorflow:Using default config.\n",
      "INFO:tensorflow:Using config: {'_task_type': None, '_task_id': 0, '_cluster_spec': <tensorflow.python.training.server_lib.ClusterSpec object at 0x10c5c58d0>, '_master': '', '_num_ps_replicas': 0, '_environment': 'local', '_is_chief': True, '_evaluation_master': '', '_tf_config': gpu_options {\n",
      "  per_process_gpu_memory_fraction: 1\n",
      "}\n",
      ", '_tf_random_seed': None, '_save_summary_steps': 100, '_save_checkpoints_secs': 600, '_save_checkpoints_steps': None, '_keep_checkpoint_max': 5, '_keep_checkpoint_every_n_hours': 10000}\n"
     ]
    }
   ],
   "source": [
    "# estimator: a front end to invoke training and evaluation\n",
    "\n",
    "estimator = tf.contrib.learn.LinearRegressor( feature_columns= features )"
   ]
  },
  {
   "cell_type": "code",
   "execution_count": 4,
   "metadata": {
    "collapsed": true
   },
   "outputs": [],
   "source": [
    "x = np.array( [1., 2., 3., 4.] )\n",
    "y = np.array( [0., -1., -2., -3.] )\n",
    "input_fn = tf.contrib.learn.io.numpy_input_fn( {\"x\":x}, y, batch_size=4, num_epochs=1000 )"
   ]
  },
  {
   "cell_type": "code",
   "execution_count": 5,
   "metadata": {
    "collapsed": false
   },
   "outputs": [
    {
     "name": "stdout",
     "output_type": "stream",
     "text": [
      "WARNING:tensorflow:Rank of input Tensor (1) should be the same as output_rank (2) for column. Will attempt to expand dims. It is highly recommended that you resize your input, as this behavior may change.\n",
      "WARNING:tensorflow:From /Library/Frameworks/Python.framework/Versions/3.6/lib/python3.6/site-packages/tensorflow/contrib/learn/python/learn/estimators/head.py:1362: scalar_summary (from tensorflow.python.ops.logging_ops) is deprecated and will be removed after 2016-11-30.\n",
      "Instructions for updating:\n",
      "Please switch to tf.summary.scalar. Note that tf.summary.scalar uses the node name instead of the tag. This means that TensorFlow will automatically de-duplicate summary names based on the scope they are created in. Also, passing a tensor or list of tags to a scalar summary op is no longer supported.\n",
      "INFO:tensorflow:Create CheckpointSaverHook.\n",
      "INFO:tensorflow:Saving checkpoints for 1 into /var/folders/dr/5wb0rqf16jgfd_0fjs5qkst40000gn/T/tmpmavuci0r/model.ckpt.\n",
      "INFO:tensorflow:loss = 5.0, step = 1\n",
      "INFO:tensorflow:global_step/sec: 835.758\n",
      "INFO:tensorflow:loss = 0.0843135, step = 101\n",
      "INFO:tensorflow:global_step/sec: 781.707\n",
      "INFO:tensorflow:loss = 0.0153884, step = 201\n",
      "INFO:tensorflow:global_step/sec: 655.02\n",
      "INFO:tensorflow:loss = 0.00724421, step = 301\n",
      "INFO:tensorflow:global_step/sec: 631.381\n",
      "INFO:tensorflow:loss = 0.000947692, step = 401\n",
      "INFO:tensorflow:global_step/sec: 844.281\n",
      "INFO:tensorflow:loss = 0.000109497, step = 501\n",
      "INFO:tensorflow:global_step/sec: 1009.3\n",
      "INFO:tensorflow:loss = 1.97312e-05, step = 601\n",
      "INFO:tensorflow:global_step/sec: 743.697\n",
      "INFO:tensorflow:loss = 7.61893e-06, step = 701\n",
      "INFO:tensorflow:global_step/sec: 336.599\n",
      "INFO:tensorflow:loss = 1.53822e-06, step = 801\n",
      "INFO:tensorflow:global_step/sec: 593.327\n",
      "INFO:tensorflow:loss = 2.33646e-07, step = 901\n",
      "INFO:tensorflow:Saving checkpoints for 1000 into /var/folders/dr/5wb0rqf16jgfd_0fjs5qkst40000gn/T/tmpmavuci0r/model.ckpt.\n",
      "INFO:tensorflow:Loss for final step: 6.08347e-08.\n"
     ]
    },
    {
     "data": {
      "text/plain": [
       "LinearRegressor(params={'head': <tensorflow.contrib.learn.python.learn.estimators.head._RegressionHead object at 0x1112474e0>, 'feature_columns': [_RealValuedColumn(column_name='x', dimension=1, default_value=None, dtype=tf.float32, normalizer=None)], 'optimizer': None, 'gradient_clip_norm': None, 'joint_weights': False})"
      ]
     },
     "execution_count": 5,
     "metadata": {},
     "output_type": "execute_result"
    }
   ],
   "source": [
    "estimator.fit( input_fn=input_fn, steps=1000 )"
   ]
  },
  {
   "cell_type": "code",
   "execution_count": 7,
   "metadata": {
    "collapsed": false
   },
   "outputs": [
    {
     "name": "stdout",
     "output_type": "stream",
     "text": [
      "WARNING:tensorflow:Rank of input Tensor (1) should be the same as output_rank (2) for column. Will attempt to expand dims. It is highly recommended that you resize your input, as this behavior may change.\n",
      "WARNING:tensorflow:From /Library/Frameworks/Python.framework/Versions/3.6/lib/python3.6/site-packages/tensorflow/contrib/learn/python/learn/estimators/head.py:1362: scalar_summary (from tensorflow.python.ops.logging_ops) is deprecated and will be removed after 2016-11-30.\n",
      "Instructions for updating:\n",
      "Please switch to tf.summary.scalar. Note that tf.summary.scalar uses the node name instead of the tag. This means that TensorFlow will automatically de-duplicate summary names based on the scope they are created in. Also, passing a tensor or list of tags to a scalar summary op is no longer supported.\n",
      "INFO:tensorflow:Starting evaluation at 2017-03-04-21:53:34\n",
      "INFO:tensorflow:Finished evaluation at 2017-03-04-21:53:36\n",
      "INFO:tensorflow:Saving dict for global step 1000: global_step = 1000, loss = 9.36e-08\n",
      "WARNING:tensorflow:Skipping summary for global_step, must be a float or np.float32.\n"
     ]
    },
    {
     "data": {
      "text/plain": [
       "{'global_step': 1000, 'loss': 9.3600022e-08}"
      ]
     },
     "execution_count": 7,
     "metadata": {},
     "output_type": "execute_result"
    }
   ],
   "source": [
    "estimator.evaluate(input_fn=input_fn)"
   ]
  }
 ],
 "metadata": {
  "kernelspec": {
   "display_name": "Python 3",
   "language": "python",
   "name": "python3"
  },
  "language_info": {
   "codemirror_mode": {
    "name": "ipython",
    "version": 3
   },
   "file_extension": ".py",
   "mimetype": "text/x-python",
   "name": "python",
   "nbconvert_exporter": "python",
   "pygments_lexer": "ipython3",
   "version": "3.6.0"
  }
 },
 "nbformat": 4,
 "nbformat_minor": 2
}
